{
 "cells": [
  {
   "cell_type": "markdown",
   "metadata": {},
   "source": [
    "# <span style=\"color:Blue\">Assignment-3 of COSC4427: Data Science with Python</span>"
   ]
  },
  {
   "cell_type": "markdown",
   "metadata": {},
   "source": [
    "### <span style=\"color:Red\">Load the \"The_Bible.txt\" file and perform the following link: https://drive.google.com/file/d/12YzVL-9noglz6LEGXEmxXB69GWGzQvH5/view?usp=sharing. You are allowed to use Python's built in modules, NumPy, and pandas. </span>"
   ]
  },
  {
   "cell_type": "code",
   "execution_count": 5,
   "metadata": {},
   "outputs": [
    {
     "data": {
      "text/plain": [
       "0             World of Free Plain Vanilla Electronic Texts\n",
       "1        **Etexts Readable By Both Humans and By Comput...\n",
       "2        *These Etexts Prepared By Hundreds of Voluntee...\n",
       "3                                 August, 1989 [Etext #10]\n",
       "4        ******The Project Gutenberg Etext of The King ...\n",
       "                               ...                        \n",
       "16808    13:7 Have ye not seen a vain vision, and have ...\n",
       "16809    13:9 And mine hand shall be upon the prophets ...\n",
       "16810    13:10 Because, even because they have seduced ...\n",
       "16811    13:12 Lo, when the wall is fallen, shall it no...\n",
       "16812                        13:14 So will I break down th\n",
       "Name: 0, Length: 16813, dtype: object"
      ]
     },
     "execution_count": 5,
     "metadata": {},
     "output_type": "execute_result"
    }
   ],
   "source": [
    "# Codes of the loading \"The_Bible.txt\" file goes here\n",
    "import pandas as pd\n",
    "import numpy as np\n",
    "\n",
    "series = pd.read_csv(\"The_Bible.txt\", sep='\\t', header=None).squeeze('columns')\n",
    "series"
   ]
  },
  {
   "cell_type": "markdown",
   "metadata": {},
   "source": [
    "# <span style=\"color:Green\">P1: Count the number of characters.</span>"
   ]
  },
  {
   "cell_type": "code",
   "execution_count": 6,
   "metadata": {},
   "outputs": [
    {
     "name": "stdout",
     "output_type": "stream",
     "text": [
      "Number of characters in the text file:  2370780\n"
     ]
    }
   ],
   "source": [
    "#Codes of P1 here\n",
    "\n",
    "# Will sum up the number of characters in the text file\n",
    "characters = 0\n",
    "\n",
    "# i is the individual element in the series of lines from the bible text file\n",
    "for i in series:\n",
    "    nparray = np.array(i.split(' '))\n",
    "\n",
    "    # j is the individual word in each element in the series\n",
    "    for j in nparray:\n",
    "        characters += len(j)\n",
    "\n",
    "print(\"Number of characters in the text file: \", characters)"
   ]
  },
  {
   "cell_type": "markdown",
   "metadata": {},
   "source": [
    "# <span style=\"color:Green\">P2: Count the number of words (separated by whitespaces, tabs, and newlines characters).</span>"
   ]
  },
  {
   "cell_type": "code",
   "execution_count": 7,
   "metadata": {},
   "outputs": [
    {
     "name": "stdout",
     "output_type": "stream",
     "text": [
      "Number of words in the text file:  558901\n"
     ]
    }
   ],
   "source": [
    "#Codes of P2 here\n",
    "#Store total number of words in the document\n",
    "wordsTotal = 0\n",
    "\n",
    "# i is the individual element in the series of lines from the bible text file\n",
    "for i in series:\n",
    "    nparray = np.array(i.split(' '))\n",
    "\n",
    "    # j is the individual word in each element in the series\n",
    "    for j in nparray:\n",
    "        # increment by 1 for each word\n",
    "        # print(j)\n",
    "        wordsTotal += 1\n",
    "\n",
    "print(\"Number of words in the text file: \", wordsTotal)\n"
   ]
  },
  {
   "cell_type": "markdown",
   "metadata": {},
   "source": [
    "# <span style=\"color:Green\">P3: Count and print the number of unique words (separated by whitespaces, tabs, and newlines characters).</span>"
   ]
  },
  {
   "cell_type": "code",
   "execution_count": 8,
   "metadata": {},
   "outputs": [
    {
     "name": "stdout",
     "output_type": "stream",
     "text": [
      "The number of unique words in the text file:  10452\n"
     ]
    }
   ],
   "source": [
    "file = open('The_Bible.txt', 'r')\n",
    "text = file.read()\n",
    "\n",
    "# change all text to uppercase\n",
    "text = text.upper()\n",
    "# split into individual words based on delimiter of whitespace\n",
    "words = text.split()\n",
    "# strip non-alphanumeric chars\n",
    "words = [word.strip('.,!;()[]*:?') for word in words]\n",
    "words = [word.replace(\"'s\", '') for word in words]\n",
    "\n",
    "# unique dict will hold ALL the unique alpha words that do not contain any numbers or non-alphanumerics characters\n",
    "# The keys are the unique words while the values are the number of occurrences of each unique word\n",
    "uniqueDict = {}\n",
    "for word in words:\n",
    "    if word not in uniqueDict and word.isalpha():\n",
    "        uniqueDict[word] = 1\n",
    "    # Otherwise if the word already in the dictionary then increment the value\n",
    "    elif word in uniqueDict and word.isalpha():\n",
    "        value = uniqueDict.get(word)\n",
    "        value += 1\n",
    "        uniqueDict[word] = value\n",
    "\n",
    "#print\n",
    "print(\"The number of unique words in the text file: \" , len(uniqueDict))\n",
    "# print(uniqueList)\n",
    "\n",
    "        \n"
   ]
  },
  {
   "cell_type": "markdown",
   "metadata": {},
   "source": [
    "# <span style=\"color:Green\">P4: Count and print the number of lines.</span>"
   ]
  },
  {
   "cell_type": "code",
   "execution_count": 9,
   "metadata": {},
   "outputs": [
    {
     "name": "stdout",
     "output_type": "stream",
     "text": [
      "The number of lines in the text file (excluding empty lines):  16813\n"
     ]
    }
   ],
   "source": [
    "#Codes of P4 here\n",
    "# The number of lines in the text file is just the length of the series. This does not include the empty space lines\n",
    "\n",
    "print(\"The number of lines in the text file (excluding empty lines): \" , len(series))\n"
   ]
  },
  {
   "cell_type": "markdown",
   "metadata": {},
   "source": [
    "# <span style=\"color:Green\">P5: Find and print the longest word.</span>"
   ]
  },
  {
   "cell_type": "code",
   "execution_count": 10,
   "metadata": {},
   "outputs": [
    {
     "name": "stdout",
     "output_type": "stream",
     "text": [
      "The longest word in the text file:  MAHERSHALALHASHBAZ\n"
     ]
    }
   ],
   "source": [
    "#Codes of P5 here\n",
    "# First convert the dictionary's keys to a list\n",
    "uniqueList = list(uniqueDict.keys())\n",
    "\n",
    "# We can sort by length and then find the first element which will be the longest\n",
    "uniqueList.sort(key=len, reverse=True) # sorts by descending length\n",
    "print (\"The longest word in the text file: \", uniqueList[0])"
   ]
  },
  {
   "cell_type": "markdown",
   "metadata": {},
   "source": [
    "# <span style=\"color:Green\">P6: Find and print the 10 most common words.</span>"
   ]
  },
  {
   "cell_type": "code",
   "execution_count": 25,
   "metadata": {},
   "outputs": [
    {
     "name": "stdout",
     "output_type": "stream",
     "text": [
      "The 10 most common words are:\n",
      "('LORD', 6232)\n",
      "('HIS', 6415)\n",
      "('SHALL', 6670)\n",
      "('HE', 6693)\n",
      "('THAT', 8015)\n",
      "('IN', 8532)\n",
      "('TO', 9228)\n",
      "('OF', 25438)\n",
      "('AND', 36422)\n"
     ]
    }
   ],
   "source": [
    "#Codes of P6 here\n",
    "# # Sort the dictionary by its values which are the occurrences of each word\n",
    "sortedList = sorted(uniqueDict.items(), key = lambda kv: kv[1])\n",
    "# Print the last ten items in this list\n",
    "print('The 10 most common words are:')\n",
    "for i in range(len(sortedList) - 10, len(sortedList) - 1):\n",
    "    print(sortedList[i])\n",
    "    \n",
    "\n"
   ]
  },
  {
   "cell_type": "markdown",
   "metadata": {},
   "source": [
    "# <span style=\"color:Green\">P7: Find and print the 10 least common words.</span>"
   ]
  },
  {
   "cell_type": "code",
   "execution_count": 24,
   "metadata": {},
   "outputs": [
    {
     "name": "stdout",
     "output_type": "stream",
     "text": [
      "The 10 least common words are:\n",
      "('POSTING', 1)\n",
      "('IMPORTANT', 1)\n",
      "('HEADER', 1)\n",
      "('WELCOME', 1)\n",
      "('CONTACTING', 1)\n",
      "('VERSIONS', 1)\n",
      "('BASED', 1)\n",
      "('SOURCES', 1)\n",
      "('MULTIPLE', 1)\n",
      "('COMPLIANCE', 1)\n"
     ]
    }
   ],
   "source": [
    "#Codes of P7 here\n",
    "# Sort the dictionary by its values which are the occurrences of each word\n",
    "sortedList = sorted(uniqueDict.items(), key = lambda kv: kv[1])\n",
    "# Print the first ten items in this list\n",
    "print('The 10 least common words are:')\n",
    "for i in range(0, 10):\n",
    "    print(sortedList[i])"
   ]
  },
  {
   "cell_type": "markdown",
   "metadata": {},
   "source": [
    "# <span style=\"color:Green\">P8: Count and print the number of words that begin with each English letter.</span>"
   ]
  },
  {
   "cell_type": "code",
   "execution_count": 12,
   "metadata": {},
   "outputs": [
    {
     "name": "stdout",
     "output_type": "stream",
     "text": [
      "W : 29953\n",
      "O : 37697\n",
      "F : 19111\n",
      "P : 12233\n",
      "V : 1872\n",
      "E : 9354\n",
      "T : 107444\n",
      "R : 6713\n",
      "B : 23016\n",
      "H : 37233\n",
      "A : 67612\n",
      "C : 16223\n",
      "S : 40106\n",
      "D : 12993\n",
      "G : 11010\n",
      "K : 4796\n",
      "J : 5212\n",
      "N : 10772\n",
      "L : 15320\n",
      "Y : 6294\n",
      "I : 29269\n",
      "U : 12414\n",
      "M : 20278\n",
      "X : 2\n",
      "Z : 812\n",
      "Q : 193\n"
     ]
    }
   ],
   "source": [
    "#Codes of P8 here\n",
    "file2 = open('The_Bible.txt', 'r')\n",
    "text2 = file2.read()\n",
    "\n",
    "# change all text to uppercase\n",
    "text2 = text2.upper()\n",
    "# split into individual words based on delimiter of whitespace\n",
    "words2 = text2.split()\n",
    "# strip non-alphanumeric chars\n",
    "words2 = [word.strip('.,!;()[]*:?') for word in words2]\n",
    "words2 = [word.replace(\"'s\", '') for word in words2]\n",
    "\n",
    "# unique dict will hold ALL the unique alpha words that do not contain any numbers or non-alphanumerics characters\n",
    "# The keys are the unique words while the values are the number of occurrences of each unique word\n",
    "uniqueAlphabetDict = {}\n",
    "for word in words2:\n",
    "    # if it is an alpha character, get the first character\n",
    "    try:\n",
    "        letter = word[0]\n",
    "    except IndexError:\n",
    "        continue\n",
    "\n",
    "    if (letter.isalpha() and letter not in uniqueAlphabetDict):\n",
    "        # Add to the uniqueAlphabetDict\n",
    "        uniqueAlphabetDict[letter] = 1\n",
    "    # Otherwise if the word already in the dictionary then increment the value (number of words of that letter)\n",
    "    elif letter in uniqueAlphabetDict and letter.isalpha():\n",
    "        value = uniqueAlphabetDict.get(letter)\n",
    "        value += 1\n",
    "        uniqueAlphabetDict[letter] = value\n",
    "\n",
    "#print\n",
    "for i in uniqueAlphabetDict:\n",
    "    print(i, \":\", uniqueAlphabetDict[i])\n"
   ]
  },
  {
   "cell_type": "markdown",
   "metadata": {},
   "source": [
    "# <span style=\"color:Green\">P9: List unique words by each English letter.</span>"
   ]
  },
  {
   "cell_type": "code",
   "execution_count": null,
   "metadata": {},
   "outputs": [],
   "source": [
    "#Codes of P9 here\n",
    "file3 = open('The_Bible.txt', 'r')\n",
    "text3 = file3.read()\n",
    "\n",
    "# change all text to uppercase\n",
    "text3 = text3.upper()\n",
    "# split into individual words based on delimiter of whitespace\n",
    "words3 = text3.split()\n",
    "# strip non-alphanumeric chars\n",
    "words3 = [word.strip('.,!;()[]*:?') for word in words3]\n",
    "words3 = [word.replace(\"'s\", '') for word in words3]\n",
    "\n",
    "# unique dict will hold ALL the unique alpha words that do not contain any numbers or non-alphanumerics characters\n",
    "# The keys are the unique words while the values are the number of occurrences of each unique word\n",
    "uniqueWordsDict = {}\n",
    "for word in words3:\n",
    "    # if it is an alpha character, get the first character\n",
    "    try:\n",
    "        letter = word[0]\n",
    "    except IndexError:\n",
    "        continue\n",
    "\n",
    "    if (letter.isalpha() and letter not in uniqueWordsDict):\n",
    "        # Add to the uniqueAlphabetDict\n",
    "        uniqueWordsDict[letter] = [word]\n",
    "    # Otherwise if the word already in the dictionary then add to the words list\n",
    "    elif (letter in uniqueWordsDict and letter.isalpha()):\n",
    "        wordList = uniqueWordsDict.get(letter)\n",
    "        # Check if the wordlist does not already contain the word, if not then add it\n",
    "        if (word not in wordList):\n",
    "            wordList.append(word)\n",
    "            uniqueWordsDict[letter] = wordList\n",
    "\n",
    "#print\n",
    "for i in uniqueWordsDict:\n",
    "    print(i, \":\", uniqueWordsDict[i])\n"
   ]
  },
  {
   "cell_type": "markdown",
   "metadata": {},
   "source": [
    "# <span style=\"color:Green\">P10: Count and print the number of digits. </span>"
   ]
  },
  {
   "cell_type": "code",
   "execution_count": 14,
   "metadata": {},
   "outputs": [
    {
     "name": "stdout",
     "output_type": "stream",
     "text": [
      "Number of digits in the text file:  70840\n"
     ]
    }
   ],
   "source": [
    "#Codes of P10 here\n",
    "# Will sum up the number of digits in the text file\n",
    "digits = 0\n",
    "\n",
    "# i is the individual element in the series of lines from the bible text file\n",
    "for i in series:\n",
    "    nparray = np.array(i.split(' '))\n",
    "\n",
    "    # j is the individual word in each element in the series\n",
    "    for j in nparray:\n",
    "        wordList = list(j)\n",
    "        # For each character in the created list of each word in the text file\n",
    "        for char in wordList:\n",
    "            if char.isdigit():\n",
    "                # print(char)\n",
    "                digits += 1\n",
    "\n",
    "print(\"Number of digits in the text file: \", digits)"
   ]
  },
  {
   "cell_type": "markdown",
   "metadata": {},
   "source": [
    "### <span style=\"color:Red\">Please note that the submitted work will be considered as your own work and you confirm that you have not received any unauthorized assistance in preparing for or doing this assignment/examination. You confirm knowing that a mark of 0 may be assigned for your entire work.</span>"
   ]
  },
  {
   "cell_type": "markdown",
   "metadata": {},
   "source": [
    "### <span style=\"color:Red\">Submit your completed Jupyter notebook (.ipynb) to Brightspace. You can submit multiple times but the grade will be posted based on your latest attempt.</span>"
   ]
  }
 ],
 "metadata": {
  "kernelspec": {
   "display_name": "Python 3.10.5 64-bit",
   "language": "python",
   "name": "python3"
  },
  "language_info": {
   "codemirror_mode": {
    "name": "ipython",
    "version": 3
   },
   "file_extension": ".py",
   "mimetype": "text/x-python",
   "name": "python",
   "nbconvert_exporter": "python",
   "pygments_lexer": "ipython3",
   "version": "3.10.5"
  },
  "vscode": {
   "interpreter": {
    "hash": "52634da84371cba311ea128a5ea7cdc41ff074b781779e754b270ff9f8153cee"
   }
  }
 },
 "nbformat": 4,
 "nbformat_minor": 4
}
